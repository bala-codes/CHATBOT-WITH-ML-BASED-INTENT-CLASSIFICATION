{
  "nbformat": 4,
  "nbformat_minor": 0,
  "metadata": {
    "hide_input": false,
    "kernelspec": {
      "display_name": "Python 3",
      "language": "python",
      "name": "python3"
    },
    "language_info": {
      "codemirror_mode": {
        "name": "ipython",
        "version": 3
      },
      "file_extension": ".py",
      "mimetype": "text/x-python",
      "name": "python",
      "nbconvert_exporter": "python",
      "pygments_lexer": "ipython3",
      "version": "3.6.7"
    },
    "toc": {
      "base_numbering": 1,
      "nav_menu": {},
      "number_sections": true,
      "sideBar": true,
      "skip_h1_title": false,
      "title_cell": "Table of Contents",
      "title_sidebar": "Contents",
      "toc_cell": false,
      "toc_position": {},
      "toc_section_display": true,
      "toc_window_display": false
    },
    "varInspector": {
      "cols": {
        "lenName": 16,
        "lenType": 16,
        "lenVar": 40
      },
      "kernels_config": {
        "python": {
          "delete_cmd_postfix": "",
          "delete_cmd_prefix": "del ",
          "library": "var_list.py",
          "varRefreshCmd": "print(var_dic_list())"
        },
        "r": {
          "delete_cmd_postfix": ") ",
          "delete_cmd_prefix": "rm(",
          "library": "var_list.r",
          "varRefreshCmd": "cat(var_dic_list()) "
        }
      },
      "types_to_exclude": [
        "module",
        "function",
        "builtin_function_or_method",
        "instance",
        "_Feature"
      ],
      "window_display": false
    },
    "colab": {
      "name": "train-bot.ipynb",
      "provenance": [],
      "include_colab_link": true
    }
  },
  "cells": [
    {
      "cell_type": "markdown",
      "metadata": {
        "id": "view-in-github",
        "colab_type": "text"
      },
      "source": [
        "<a href=\"https://colab.research.google.com/github/bala-codes/CHATBOT-WITH-ML-BASED-INTENT-CLASSIFICATION/blob/master/codes/1.%20CHATBOT%20TRAINING.ipynb\" target=\"_parent\"><img src=\"https://colab.research.google.com/assets/colab-badge.svg\" alt=\"Open In Colab\"/></a>"
      ]
    },
    {
      "cell_type": "code",
      "metadata": {
        "id": "nQ1dHgUAe2g4",
        "colab_type": "code",
        "colab": {},
        "outputId": "c530f064-7890-4cb1-d5da-d61af4d09040"
      },
      "source": [
        "import numpy as np\n",
        "import random, string\n",
        "import json\n",
        "import pandas as pd\n",
        "!pip install nltk\n",
        "import nltk"
      ],
      "execution_count": null,
      "outputs": [
        {
          "output_type": "stream",
          "text": [
            "Requirement already satisfied: nltk in c:\\users\\elcot\\appdata\\local\\programs\\python\\python36-32\\lib\\site-packages (3.5)\n",
            "Requirement already satisfied: joblib in c:\\users\\elcot\\appdata\\local\\programs\\python\\python36-32\\lib\\site-packages (from nltk) (0.14.1)\n",
            "Requirement already satisfied: click in c:\\users\\elcot\\appdata\\local\\programs\\python\\python36-32\\lib\\site-packages (from nltk) (7.1.1)\n",
            "Requirement already satisfied: regex in c:\\users\\elcot\\appdata\\local\\programs\\python\\python36-32\\lib\\site-packages (from nltk) (2020.7.14)\n",
            "Requirement already satisfied: tqdm in c:\\users\\elcot\\appdata\\local\\programs\\python\\python36-32\\lib\\site-packages (from nltk) (4.43.0)\n"
          ],
          "name": "stdout"
        },
        {
          "output_type": "stream",
          "text": [
            "WARNING: You are using pip version 20.1; however, version 20.1.1 is available.\n",
            "You should consider upgrading via the 'c:\\users\\elcot\\appdata\\local\\programs\\python\\python36-32\\python.exe -m pip install --upgrade pip' command.\n"
          ],
          "name": "stderr"
        }
      ]
    },
    {
      "cell_type": "code",
      "metadata": {
        "id": "rthHjjNTe2hE",
        "colab_type": "code",
        "colab": {},
        "outputId": "0b4d4900-2e21-4e61-8cc0-e1335bd26d3d"
      },
      "source": [
        "with open('basic-chats.json', 'r') as f:\n",
        "    intents = json.load(f)\n",
        "col1 = []\n",
        "col2 = []\n",
        "for intent in intents['intents']:\n",
        "    tag = intent['tag']\n",
        "    for pattern in intent['patterns']:\n",
        "        col1.append(pattern)\n",
        "        col2.append(tag)\n",
        "\n",
        "df= pd.DataFrame()\n",
        "df['text'] = col1\n",
        "df['category'] = col2\n",
        "print(df)\n",
        "df.to_csv('train-chat1.csv',index=False)\n",
        "print(df.shape)"
      ],
      "execution_count": null,
      "outputs": [
        {
          "output_type": "stream",
          "text": [
            "                                                text     category\n",
            "0                                                 Hi     greeting\n",
            "1                                                Hey     greeting\n",
            "2                                        How are you     greeting\n",
            "3                                   Is anyone there?     greeting\n",
            "4                                              Hello     greeting\n",
            "5                                  Hello how are you     greeting\n",
            "6                                   Hi how do you do     greeting\n",
            "7                                           Good day     greeting\n",
            "8                                                Bye      goodbye\n",
            "9                                      See you later      goodbye\n",
            "10                                           Goodbye      goodbye\n",
            "11                                    Alright thanks      goodbye\n",
            "12                                            Thanks       thanks\n",
            "13                                         Thank you       thanks\n",
            "14                                    That's helpful       thanks\n",
            "15                                    Thank's a lot!       thanks\n",
            "16  I need an appointment with the available doctor.  appointment\n",
            "17                          Is the doctor available?  appointment\n",
            "18                     I need to consult the doctor.  appointment\n",
            "19                         I want to meet the doctor  appointment\n",
            "20                     I need to do a usual checkup.  appointment\n",
            "21                         Do you take credit cards?     payments\n",
            "22                         Do you accept Mastercard?     payments\n",
            "23                            Can I pay with Paypal?     payments\n",
            "24                                Are you cash only?     payments\n",
            "25   Book an appointment with doctor lecun on monday      confirm\n",
            "26    fix an appointment with doctor lecun on monday      confirm\n",
            "27  Book an appointment with doctor benjio on sunday      confirm\n",
            "28   fix an appointment with doctor benjio on sunday      confirm\n",
            "29  Book an appointment with doctor andrew on Friday      confirm\n",
            "30   fix an appointment with doctor andrew on friday      confirm\n",
            "31    yes please book an appointment with the doctor      confirm\n",
            "32                                   Tell me a joke!      unknown\n",
            "33                          Tell me something funny!      unknown\n",
            "34                               Do you know a joke?      unknown\n",
            "(35, 2)\n"
          ],
          "name": "stdout"
        }
      ]
    },
    {
      "cell_type": "code",
      "metadata": {
        "id": "ykbZh1vne2hN",
        "colab_type": "code",
        "colab": {}
      },
      "source": [
        "all_punctuations = string.punctuation + '‘’,:”][],' \n",
        "\n",
        "def punc_remover(raw_text):\n",
        "    no_punct = \"\".join([i for i in raw_text if i not in all_punctuations])\n",
        "    return no_punct\n",
        "\n",
        "lemmer = nltk.stem.WordNetLemmatizer()\n",
        "def lem(words):\n",
        "    return \" \".join([lemmer.lemmatize(word,'v') for word in words.split()])\n",
        "\n",
        "def text_cleaner(raw):\n",
        "    cleaned_text = punc_remover(raw.lower())\n",
        "    return cleaned_text"
      ],
      "execution_count": null,
      "outputs": []
    },
    {
      "cell_type": "code",
      "metadata": {
        "id": "Aa-r_dB7e2hW",
        "colab_type": "code",
        "colab": {},
        "outputId": "89eb5d5f-d5c7-49b0-9b0f-7782a58f2ffd"
      },
      "source": [
        "df['text_cleaned'] = df['text'].apply(text_cleaner)\n",
        "df"
      ],
      "execution_count": null,
      "outputs": [
        {
          "output_type": "execute_result",
          "data": {
            "text/html": [
              "<div>\n",
              "<style scoped>\n",
              "    .dataframe tbody tr th:only-of-type {\n",
              "        vertical-align: middle;\n",
              "    }\n",
              "\n",
              "    .dataframe tbody tr th {\n",
              "        vertical-align: top;\n",
              "    }\n",
              "\n",
              "    .dataframe thead th {\n",
              "        text-align: right;\n",
              "    }\n",
              "</style>\n",
              "<table border=\"1\" class=\"dataframe\">\n",
              "  <thead>\n",
              "    <tr style=\"text-align: right;\">\n",
              "      <th></th>\n",
              "      <th>text</th>\n",
              "      <th>category</th>\n",
              "      <th>text_cleaned</th>\n",
              "    </tr>\n",
              "  </thead>\n",
              "  <tbody>\n",
              "    <tr>\n",
              "      <th>0</th>\n",
              "      <td>Hi</td>\n",
              "      <td>greeting</td>\n",
              "      <td>hi</td>\n",
              "    </tr>\n",
              "    <tr>\n",
              "      <th>1</th>\n",
              "      <td>Hey</td>\n",
              "      <td>greeting</td>\n",
              "      <td>hey</td>\n",
              "    </tr>\n",
              "    <tr>\n",
              "      <th>2</th>\n",
              "      <td>How are you</td>\n",
              "      <td>greeting</td>\n",
              "      <td>how are you</td>\n",
              "    </tr>\n",
              "    <tr>\n",
              "      <th>3</th>\n",
              "      <td>Is anyone there?</td>\n",
              "      <td>greeting</td>\n",
              "      <td>is anyone there</td>\n",
              "    </tr>\n",
              "    <tr>\n",
              "      <th>4</th>\n",
              "      <td>Hello</td>\n",
              "      <td>greeting</td>\n",
              "      <td>hello</td>\n",
              "    </tr>\n",
              "    <tr>\n",
              "      <th>5</th>\n",
              "      <td>Hello how are you</td>\n",
              "      <td>greeting</td>\n",
              "      <td>hello how are you</td>\n",
              "    </tr>\n",
              "    <tr>\n",
              "      <th>6</th>\n",
              "      <td>Hi how do you do</td>\n",
              "      <td>greeting</td>\n",
              "      <td>hi how do you do</td>\n",
              "    </tr>\n",
              "    <tr>\n",
              "      <th>7</th>\n",
              "      <td>Good day</td>\n",
              "      <td>greeting</td>\n",
              "      <td>good day</td>\n",
              "    </tr>\n",
              "    <tr>\n",
              "      <th>8</th>\n",
              "      <td>Bye</td>\n",
              "      <td>goodbye</td>\n",
              "      <td>bye</td>\n",
              "    </tr>\n",
              "    <tr>\n",
              "      <th>9</th>\n",
              "      <td>See you later</td>\n",
              "      <td>goodbye</td>\n",
              "      <td>see you later</td>\n",
              "    </tr>\n",
              "    <tr>\n",
              "      <th>10</th>\n",
              "      <td>Goodbye</td>\n",
              "      <td>goodbye</td>\n",
              "      <td>goodbye</td>\n",
              "    </tr>\n",
              "    <tr>\n",
              "      <th>11</th>\n",
              "      <td>Alright thanks</td>\n",
              "      <td>goodbye</td>\n",
              "      <td>alright thanks</td>\n",
              "    </tr>\n",
              "    <tr>\n",
              "      <th>12</th>\n",
              "      <td>Thanks</td>\n",
              "      <td>thanks</td>\n",
              "      <td>thanks</td>\n",
              "    </tr>\n",
              "    <tr>\n",
              "      <th>13</th>\n",
              "      <td>Thank you</td>\n",
              "      <td>thanks</td>\n",
              "      <td>thank you</td>\n",
              "    </tr>\n",
              "    <tr>\n",
              "      <th>14</th>\n",
              "      <td>That's helpful</td>\n",
              "      <td>thanks</td>\n",
              "      <td>thats helpful</td>\n",
              "    </tr>\n",
              "    <tr>\n",
              "      <th>15</th>\n",
              "      <td>Thank's a lot!</td>\n",
              "      <td>thanks</td>\n",
              "      <td>thanks a lot</td>\n",
              "    </tr>\n",
              "    <tr>\n",
              "      <th>16</th>\n",
              "      <td>I need an appointment with the available doctor.</td>\n",
              "      <td>appointment</td>\n",
              "      <td>i need an appointment with the available doctor</td>\n",
              "    </tr>\n",
              "    <tr>\n",
              "      <th>17</th>\n",
              "      <td>Is the doctor available?</td>\n",
              "      <td>appointment</td>\n",
              "      <td>is the doctor available</td>\n",
              "    </tr>\n",
              "    <tr>\n",
              "      <th>18</th>\n",
              "      <td>I need to consult the doctor.</td>\n",
              "      <td>appointment</td>\n",
              "      <td>i need to consult the doctor</td>\n",
              "    </tr>\n",
              "    <tr>\n",
              "      <th>19</th>\n",
              "      <td>I want to meet the doctor</td>\n",
              "      <td>appointment</td>\n",
              "      <td>i want to meet the doctor</td>\n",
              "    </tr>\n",
              "    <tr>\n",
              "      <th>20</th>\n",
              "      <td>I need to do a usual checkup.</td>\n",
              "      <td>appointment</td>\n",
              "      <td>i need to do a usual checkup</td>\n",
              "    </tr>\n",
              "    <tr>\n",
              "      <th>21</th>\n",
              "      <td>Do you take credit cards?</td>\n",
              "      <td>payments</td>\n",
              "      <td>do you take credit cards</td>\n",
              "    </tr>\n",
              "    <tr>\n",
              "      <th>22</th>\n",
              "      <td>Do you accept Mastercard?</td>\n",
              "      <td>payments</td>\n",
              "      <td>do you accept mastercard</td>\n",
              "    </tr>\n",
              "    <tr>\n",
              "      <th>23</th>\n",
              "      <td>Can I pay with Paypal?</td>\n",
              "      <td>payments</td>\n",
              "      <td>can i pay with paypal</td>\n",
              "    </tr>\n",
              "    <tr>\n",
              "      <th>24</th>\n",
              "      <td>Are you cash only?</td>\n",
              "      <td>payments</td>\n",
              "      <td>are you cash only</td>\n",
              "    </tr>\n",
              "    <tr>\n",
              "      <th>25</th>\n",
              "      <td>Book an appointment with doctor lecun on monday</td>\n",
              "      <td>confirm</td>\n",
              "      <td>book an appointment with doctor lecun on monday</td>\n",
              "    </tr>\n",
              "    <tr>\n",
              "      <th>26</th>\n",
              "      <td>fix an appointment with doctor lecun on monday</td>\n",
              "      <td>confirm</td>\n",
              "      <td>fix an appointment with doctor lecun on monday</td>\n",
              "    </tr>\n",
              "    <tr>\n",
              "      <th>27</th>\n",
              "      <td>Book an appointment with doctor benjio on sunday</td>\n",
              "      <td>confirm</td>\n",
              "      <td>book an appointment with doctor benjio on sunday</td>\n",
              "    </tr>\n",
              "    <tr>\n",
              "      <th>28</th>\n",
              "      <td>fix an appointment with doctor benjio on sunday</td>\n",
              "      <td>confirm</td>\n",
              "      <td>fix an appointment with doctor benjio on sunday</td>\n",
              "    </tr>\n",
              "    <tr>\n",
              "      <th>29</th>\n",
              "      <td>Book an appointment with doctor andrew on Friday</td>\n",
              "      <td>confirm</td>\n",
              "      <td>book an appointment with doctor andrew on friday</td>\n",
              "    </tr>\n",
              "    <tr>\n",
              "      <th>30</th>\n",
              "      <td>fix an appointment with doctor andrew on friday</td>\n",
              "      <td>confirm</td>\n",
              "      <td>fix an appointment with doctor andrew on friday</td>\n",
              "    </tr>\n",
              "    <tr>\n",
              "      <th>31</th>\n",
              "      <td>yes please book an appointment with the doctor</td>\n",
              "      <td>confirm</td>\n",
              "      <td>yes please book an appointment with the doctor</td>\n",
              "    </tr>\n",
              "    <tr>\n",
              "      <th>32</th>\n",
              "      <td>Tell me a joke!</td>\n",
              "      <td>unknown</td>\n",
              "      <td>tell me a joke</td>\n",
              "    </tr>\n",
              "    <tr>\n",
              "      <th>33</th>\n",
              "      <td>Tell me something funny!</td>\n",
              "      <td>unknown</td>\n",
              "      <td>tell me something funny</td>\n",
              "    </tr>\n",
              "    <tr>\n",
              "      <th>34</th>\n",
              "      <td>Do you know a joke?</td>\n",
              "      <td>unknown</td>\n",
              "      <td>do you know a joke</td>\n",
              "    </tr>\n",
              "  </tbody>\n",
              "</table>\n",
              "</div>"
            ],
            "text/plain": [
              "                                                text     category  \\\n",
              "0                                                 Hi     greeting   \n",
              "1                                                Hey     greeting   \n",
              "2                                        How are you     greeting   \n",
              "3                                   Is anyone there?     greeting   \n",
              "4                                              Hello     greeting   \n",
              "5                                  Hello how are you     greeting   \n",
              "6                                   Hi how do you do     greeting   \n",
              "7                                           Good day     greeting   \n",
              "8                                                Bye      goodbye   \n",
              "9                                      See you later      goodbye   \n",
              "10                                           Goodbye      goodbye   \n",
              "11                                    Alright thanks      goodbye   \n",
              "12                                            Thanks       thanks   \n",
              "13                                         Thank you       thanks   \n",
              "14                                    That's helpful       thanks   \n",
              "15                                    Thank's a lot!       thanks   \n",
              "16  I need an appointment with the available doctor.  appointment   \n",
              "17                          Is the doctor available?  appointment   \n",
              "18                     I need to consult the doctor.  appointment   \n",
              "19                         I want to meet the doctor  appointment   \n",
              "20                     I need to do a usual checkup.  appointment   \n",
              "21                         Do you take credit cards?     payments   \n",
              "22                         Do you accept Mastercard?     payments   \n",
              "23                            Can I pay with Paypal?     payments   \n",
              "24                                Are you cash only?     payments   \n",
              "25   Book an appointment with doctor lecun on monday      confirm   \n",
              "26    fix an appointment with doctor lecun on monday      confirm   \n",
              "27  Book an appointment with doctor benjio on sunday      confirm   \n",
              "28   fix an appointment with doctor benjio on sunday      confirm   \n",
              "29  Book an appointment with doctor andrew on Friday      confirm   \n",
              "30   fix an appointment with doctor andrew on friday      confirm   \n",
              "31    yes please book an appointment with the doctor      confirm   \n",
              "32                                   Tell me a joke!      unknown   \n",
              "33                          Tell me something funny!      unknown   \n",
              "34                               Do you know a joke?      unknown   \n",
              "\n",
              "                                        text_cleaned  \n",
              "0                                                 hi  \n",
              "1                                                hey  \n",
              "2                                        how are you  \n",
              "3                                    is anyone there  \n",
              "4                                              hello  \n",
              "5                                  hello how are you  \n",
              "6                                   hi how do you do  \n",
              "7                                           good day  \n",
              "8                                                bye  \n",
              "9                                      see you later  \n",
              "10                                           goodbye  \n",
              "11                                    alright thanks  \n",
              "12                                            thanks  \n",
              "13                                         thank you  \n",
              "14                                     thats helpful  \n",
              "15                                      thanks a lot  \n",
              "16   i need an appointment with the available doctor  \n",
              "17                           is the doctor available  \n",
              "18                      i need to consult the doctor  \n",
              "19                         i want to meet the doctor  \n",
              "20                      i need to do a usual checkup  \n",
              "21                          do you take credit cards  \n",
              "22                          do you accept mastercard  \n",
              "23                             can i pay with paypal  \n",
              "24                                 are you cash only  \n",
              "25   book an appointment with doctor lecun on monday  \n",
              "26    fix an appointment with doctor lecun on monday  \n",
              "27  book an appointment with doctor benjio on sunday  \n",
              "28   fix an appointment with doctor benjio on sunday  \n",
              "29  book an appointment with doctor andrew on friday  \n",
              "30   fix an appointment with doctor andrew on friday  \n",
              "31    yes please book an appointment with the doctor  \n",
              "32                                    tell me a joke  \n",
              "33                           tell me something funny  \n",
              "34                                do you know a joke  "
            ]
          },
          "metadata": {
            "tags": []
          },
          "execution_count": 5
        }
      ]
    },
    {
      "cell_type": "code",
      "metadata": {
        "id": "1SzC8Aw3e2hf",
        "colab_type": "code",
        "colab": {},
        "outputId": "d88ed3fa-3153-4c0b-b731-ca783c6acb25"
      },
      "source": [
        "from sklearn.model_selection import train_test_split\n",
        "X_train, X_test, y_train, y_test = train_test_split(df['text_cleaned'],df['category'],test_size=0.28,shuffle=True)\n",
        "print(X_train.shape, X_test.shape, y_train.shape, y_test.shape)"
      ],
      "execution_count": null,
      "outputs": [
        {
          "output_type": "stream",
          "text": [
            "(25,) (10,) (25,) (10,)\n"
          ],
          "name": "stdout"
        }
      ]
    },
    {
      "cell_type": "code",
      "metadata": {
        "id": "lA4scDOje2ho",
        "colab_type": "code",
        "colab": {}
      },
      "source": [
        "from sklearn.feature_extraction.text import TfidfVectorizer\n",
        "\n",
        "tfidf_vectorizer = TfidfVectorizer()\n",
        "tfidf_train = tfidf_vectorizer.fit(X_train.values)\n",
        "tfidf_train = tfidf_vectorizer.transform(X_train.values)\n",
        "\n",
        "tfidf_test = tfidf_vectorizer.transform(X_test)"
      ],
      "execution_count": null,
      "outputs": []
    },
    {
      "cell_type": "markdown",
      "metadata": {
        "id": "cRFjCytFe2hw",
        "colab_type": "text"
      },
      "source": [
        "# NAIVE BAYES CLASSIFIER"
      ]
    },
    {
      "cell_type": "code",
      "metadata": {
        "id": "GH5OJjJte2hx",
        "colab_type": "code",
        "colab": {},
        "outputId": "11b142b5-2f3b-4f74-da44-86e533b9b12d"
      },
      "source": [
        "#USING NAIVE BAYES MODEL TO PREDICT ON TFIDFVECTORIZER CALCULATED VALUES\n",
        "\n",
        "from sklearn.naive_bayes import MultinomialNB\n",
        "from sklearn import metrics\n",
        "\n",
        "nb_classifier = MultinomialNB(alpha=0.1)\n",
        "\n",
        "nb_classifier.fit(tfidf_train,y_train)\n",
        "pred = nb_classifier.predict(tfidf_test)\n",
        "\n",
        "# Calculate the accuracy score: score\n",
        "score = metrics.accuracy_score(y_test,pred)\n",
        "print(\"Score from TFIDF Vectorizer\", round(score*100,3) ,\"%\")\n",
        "\n",
        "# Calculate the confusion matrix: cm\n",
        "cm = metrics.confusion_matrix(y_test,pred, labels=['appointment', 'confirm', 'goodbye', 'greeting', 'payments', 'thanks', 'unknown'])\n",
        "print(cm)"
      ],
      "execution_count": null,
      "outputs": [
        {
          "output_type": "stream",
          "text": [
            "Score from TFIDF Vectorizer 40.0 %\n",
            "[[2 0 0 0 0 0 0]\n",
            " [0 1 0 0 0 0 0]\n",
            " [0 1 0 0 1 0 0]\n",
            " [0 2 0 0 2 0 0]\n",
            " [0 0 0 0 0 0 0]\n",
            " [0 0 0 0 0 1 0]\n",
            " [0 0 0 0 0 0 0]]\n"
          ],
          "name": "stdout"
        }
      ]
    },
    {
      "cell_type": "code",
      "metadata": {
        "id": "zco4GE1he2h6",
        "colab_type": "code",
        "colab": {},
        "outputId": "3232b771-4c50-4129-9c87-13a2a2a16480"
      },
      "source": [
        "# Create the list of alphas: alphas for tfidf\n",
        "import numpy as np\n",
        "\n",
        "alphas = np.arange(0, 1, 0.1)\n",
        "scores = []\n",
        "\n",
        "# Define train_and_predict()\n",
        "def train_and_predict(alpha):\n",
        "\n",
        "    nb_classifier = MultinomialNB(alpha=alpha)\n",
        "    nb_classifier.fit(tfidf_train, y_train)\n",
        "    pred = nb_classifier.predict(tfidf_test)\n",
        "    score = metrics.accuracy_score(y_test, pred)\n",
        "    scores.append(score)\n",
        "\n",
        "    return score\n",
        "\n",
        "# Iterate over the alphas and print the corresponding score\n",
        "for alpha in alphas:\n",
        "    print('Alpha: ', alpha)\n",
        "    print('Score: ', train_and_predict(alpha))\n",
        "    print()"
      ],
      "execution_count": null,
      "outputs": [
        {
          "output_type": "stream",
          "text": [
            "Alpha:  0.0\n",
            "Score:  0.5\n",
            "\n",
            "Alpha:  0.1\n",
            "Score:  0.4\n",
            "\n",
            "Alpha:  0.2\n",
            "Score:  0.4\n",
            "\n",
            "Alpha:  0.30000000000000004\n",
            "Score:  0.4\n",
            "\n",
            "Alpha:  0.4\n",
            "Score:  0.4\n",
            "\n",
            "Alpha:  0.5\n",
            "Score:  0.4\n",
            "\n",
            "Alpha:  0.6000000000000001\n",
            "Score:  0.4\n",
            "\n",
            "Alpha:  0.7000000000000001\n",
            "Score:  0.3\n",
            "\n",
            "Alpha:  0.8\n",
            "Score:  0.3\n",
            "\n",
            "Alpha:  0.9\n",
            "Score:  0.3\n",
            "\n"
          ],
          "name": "stdout"
        },
        {
          "output_type": "stream",
          "text": [
            "c:\\users\\elcot\\appdata\\local\\programs\\python\\python36-32\\lib\\site-packages\\sklearn\\naive_bayes.py:507: UserWarning: alpha too small will result in numeric errors, setting alpha = 1.0e-10\n",
            "  'setting alpha = %.1e' % _ALPHA_MIN)\n"
          ],
          "name": "stderr"
        }
      ]
    },
    {
      "cell_type": "code",
      "metadata": {
        "id": "bVI0zG7ue2iC",
        "colab_type": "code",
        "colab": {},
        "outputId": "7bf0ca63-b7fe-43fd-da75-fd117d32cffb"
      },
      "source": [
        "import matplotlib.pyplot as plt \n",
        "\n",
        "x = list(alphas)\n",
        "y = scores \n",
        "\n",
        "# plotting the points \n",
        "plt.plot(x, y, color='green', linestyle='dashed', linewidth = 3, marker='o', markerfacecolor='blue', markersize=12) \n",
        "plt.xlabel('Alpha Values') \n",
        "plt.ylabel('Accuracy Score') \n",
        "plt.title('HYPERPARAMETER TUNING Naive Bayes !') \n",
        "plt.show() "
      ],
      "execution_count": null,
      "outputs": [
        {
          "output_type": "display_data",
          "data": {
            "image/png": "[encoded data removed]",
            "text/plain": [
              "<Figure size 432x288 with 1 Axes>"
            ]
          },
          "metadata": {
            "tags": [],
            "needs_background": "light"
          }
        }
      ]
    },
    {
      "cell_type": "markdown",
      "metadata": {
        "id": "fsB_qAhhe2iJ",
        "colab_type": "text"
      },
      "source": [
        "# BERNOULLI BAYES"
      ]
    },
    {
      "cell_type": "code",
      "metadata": {
        "id": "9R4gT7MVe2iL",
        "colab_type": "code",
        "colab": {},
        "outputId": "3a5906a7-2f51-4edc-c1ae-4dd88ddb59f7"
      },
      "source": [
        "#USING Bernoulli BAYES MODEL TO PREDICT ON TFIDFVECTORIZER CALCULATED VALUES\n",
        "\n",
        "from sklearn.naive_bayes import BernoulliNB\n",
        "from sklearn import metrics\n",
        "\n",
        "bb_classifier = BernoulliNB(alpha=0.0)\n",
        "\n",
        "bb_classifier.fit(tfidf_train,y_train)\n",
        "pred = bb_classifier.predict(tfidf_test)\n",
        "\n",
        "# Calculate the accuracy score: score\n",
        "score = metrics.accuracy_score(y_test,pred)\n",
        "print(\"Score from TFIDF Vectorizer\", round(score*100,3) ,\"%\")\n",
        "\n",
        "# Calculate the confusion matrix: cm\n",
        "cm = metrics.confusion_matrix(y_test,pred, labels=['appointment', 'confirm', 'goodbye', 'greeting', 'payments', 'thanks', 'unknown'])\n",
        "print(cm)"
      ],
      "execution_count": null,
      "outputs": [
        {
          "output_type": "stream",
          "text": [
            "Score from TFIDF Vectorizer 70.0 %\n",
            "[[2 0 0 0 0 0 0]\n",
            " [0 1 0 0 0 0 0]\n",
            " [0 0 0 1 0 1 0]\n",
            " [0 0 0 4 0 0 0]\n",
            " [0 0 0 0 0 0 0]\n",
            " [0 0 1 0 0 0 0]\n",
            " [0 0 0 0 0 0 0]]\n"
          ],
          "name": "stdout"
        },
        {
          "output_type": "stream",
          "text": [
            "c:\\users\\elcot\\appdata\\local\\programs\\python\\python36-32\\lib\\site-packages\\sklearn\\naive_bayes.py:507: UserWarning: alpha too small will result in numeric errors, setting alpha = 1.0e-10\n",
            "  'setting alpha = %.1e' % _ALPHA_MIN)\n"
          ],
          "name": "stderr"
        }
      ]
    },
    {
      "cell_type": "code",
      "metadata": {
        "id": "C1-q0FBhe2iT",
        "colab_type": "code",
        "colab": {},
        "outputId": "77e00cae-c2c6-432e-b9cd-f75c441f7bb5"
      },
      "source": [
        "# Create the list of alphas: alphas for tfidf\n",
        "import numpy as np\n",
        "\n",
        "alphas = np.arange(0, 1, 0.1)\n",
        "scores = []\n",
        "\n",
        "# Define train_and_predict()\n",
        "def train_and_predict(alpha):\n",
        "\n",
        "    bb_classifier = BernoulliNB(alpha=alpha)\n",
        "    bb_classifier.fit(tfidf_train, y_train)\n",
        "    pred = bb_classifier.predict(tfidf_test)\n",
        "    score = metrics.accuracy_score(y_test, pred)\n",
        "    scores.append(score)\n",
        "\n",
        "    return score\n",
        "\n",
        "# Iterate over the alphas and print the corresponding score\n",
        "for alpha in alphas:\n",
        "    print('Alpha: ', alpha)\n",
        "    print('Score: ', train_and_predict(alpha))\n",
        "    print()"
      ],
      "execution_count": null,
      "outputs": [
        {
          "output_type": "stream",
          "text": [
            "Alpha:  0.0\n",
            "Score:  0.7\n",
            "\n",
            "Alpha:  0.1\n",
            "Score:  0.8\n",
            "\n",
            "Alpha:  0.2\n",
            "Score:  0.8\n",
            "\n",
            "Alpha:  0.30000000000000004\n",
            "Score:  0.8\n",
            "\n",
            "Alpha:  0.4\n",
            "Score:  0.8\n",
            "\n",
            "Alpha:  0.5\n",
            "Score:  0.7\n",
            "\n",
            "Alpha:  0.6000000000000001\n",
            "Score:  0.7\n",
            "\n",
            "Alpha:  0.7000000000000001\n",
            "Score:  0.7\n",
            "\n",
            "Alpha:  0.8\n",
            "Score:  0.6\n",
            "\n",
            "Alpha:  0.9\n",
            "Score:  0.6\n",
            "\n"
          ],
          "name": "stdout"
        },
        {
          "output_type": "stream",
          "text": [
            "c:\\users\\elcot\\appdata\\local\\programs\\python\\python36-32\\lib\\site-packages\\sklearn\\naive_bayes.py:507: UserWarning: alpha too small will result in numeric errors, setting alpha = 1.0e-10\n",
            "  'setting alpha = %.1e' % _ALPHA_MIN)\n"
          ],
          "name": "stderr"
        }
      ]
    },
    {
      "cell_type": "code",
      "metadata": {
        "id": "buYsEOlMe2ia",
        "colab_type": "code",
        "colab": {},
        "outputId": "4f11a10f-75ae-463f-915d-5fd11801e5e4"
      },
      "source": [
        "import matplotlib.pyplot as plt \n",
        "\n",
        "x = list(alphas)\n",
        "y = scores \n",
        "\n",
        "# plotting the points \n",
        "plt.plot(x, y, color='red', linestyle='dashed', linewidth = 3, marker='o', markerfacecolor='blue', markersize=12) \n",
        "plt.xlabel('Alpha Values') \n",
        "plt.ylabel('Accuracy Score') \n",
        "plt.title('HYPERPARAMETER TUNING Bernoulli Bayes !') \n",
        "plt.show() "
      ],
      "execution_count": null,
      "outputs": [
        {
          "output_type": "display_data",
          "data": {
            "image/png": "[encoded data removed]",
            "text/plain": [
              "<Figure size 432x288 with 1 Axes>"
            ]
          },
          "metadata": {
            "tags": [],
            "needs_background": "light"
          }
        }
      ]
    },
    {
      "cell_type": "markdown",
      "metadata": {
        "id": "tWuoMiX-e2ih",
        "colab_type": "text"
      },
      "source": [
        "# PASSIVE AGGRESSIVE CLASSIFIER"
      ]
    },
    {
      "cell_type": "code",
      "metadata": {
        "id": "BroIEJ5Ne2ij",
        "colab_type": "code",
        "colab": {},
        "outputId": "52a04c5b-5692-4645-a6a9-1ed42b015df7"
      },
      "source": [
        "#USING PASSIVE AGGRESSIVE MODEL TO PREDICT ON TFIDFVECTORIZER CALCULATED VALUES\n",
        "\n",
        "from sklearn.linear_model import PassiveAggressiveClassifier\n",
        "from sklearn import metrics\n",
        "\n",
        "PA_classifier = PassiveAggressiveClassifier(max_iter=200)\n",
        "\n",
        "PA_classifier.fit(tfidf_train,y_train)\n",
        "pred = PA_classifier.predict(tfidf_test)\n",
        "\n",
        "# Calculate the accuracy score: score\n",
        "score = metrics.accuracy_score(y_test,pred)\n",
        "print(\"Score from TFIDF Vectorizer\", round(score*100,3) ,\"%\")\n",
        "\n",
        "# Calculate the confusion matrix: cm\n",
        "cm = metrics.confusion_matrix(y_test,pred, labels=['appointment', 'confirm', 'goodbye', 'greeting', 'payments', 'thanks', 'unknown'])\n",
        "print(cm)"
      ],
      "execution_count": null,
      "outputs": [
        {
          "output_type": "stream",
          "text": [
            "Score from TFIDF Vectorizer 88.889 %\n",
            "[[1 0 0 0 0 0 0]\n",
            " [0 2 0 0 0 0 0]\n",
            " [0 0 0 0 0 0 0]\n",
            " [0 0 0 2 0 0 0]\n",
            " [0 1 0 0 1 0 0]\n",
            " [0 0 0 0 0 1 0]\n",
            " [0 0 0 0 0 0 1]]\n"
          ],
          "name": "stdout"
        }
      ]
    },
    {
      "cell_type": "code",
      "metadata": {
        "id": "nubCaB-Ge2is",
        "colab_type": "code",
        "colab": {},
        "outputId": "f457cc63-c78c-4410-84fa-674fb8d9c70b"
      },
      "source": [
        "# Create the list of alphas: alphas for tfidf\n",
        "import numpy as np\n",
        "\n",
        "alphas = [50,100,150,200,250,300,350,400,450,500,600,700,800,900,1000]\n",
        "scores = []\n",
        "# Define train_and_predict()\n",
        "def train_and_predict(alpha):\n",
        "\n",
        "    PA_classifier = PassiveAggressiveClassifier(max_iter=alpha)\n",
        "    PA_classifier.fit(tfidf_train, y_train)\n",
        "    pred = PA_classifier.predict(tfidf_test)\n",
        "    score = metrics.accuracy_score(y_test, pred)\n",
        "    scores.append(score)\n",
        "\n",
        "    return score\n",
        "\n",
        "# Iterate over the alphas and print the corresponding score\n",
        "for alpha in alphas:\n",
        "    print('Alpha: ', alpha)\n",
        "    print('Score: ', train_and_predict(alpha))\n",
        "    print()"
      ],
      "execution_count": null,
      "outputs": [
        {
          "output_type": "stream",
          "text": [
            "Alpha:  50\n",
            "Score:  0.7777777777777778\n",
            "\n",
            "Alpha:  100\n",
            "Score:  0.8888888888888888\n",
            "\n",
            "Alpha:  150\n",
            "Score:  0.7777777777777778\n",
            "\n",
            "Alpha:  200\n",
            "Score:  0.8888888888888888\n",
            "\n",
            "Alpha:  250\n",
            "Score:  0.7777777777777778\n",
            "\n",
            "Alpha:  300\n",
            "Score:  0.8888888888888888\n",
            "\n",
            "Alpha:  350\n",
            "Score:  0.8888888888888888\n",
            "\n",
            "Alpha:  400\n",
            "Score:  0.7777777777777778\n",
            "\n",
            "Alpha:  450\n",
            "Score:  0.7777777777777778\n",
            "\n",
            "Alpha:  500\n",
            "Score:  0.7777777777777778\n",
            "\n",
            "Alpha:  600\n",
            "Score:  0.8888888888888888\n",
            "\n",
            "Alpha:  700\n",
            "Score:  0.7777777777777778\n",
            "\n",
            "Alpha:  800\n",
            "Score:  0.7777777777777778\n",
            "\n",
            "Alpha:  900\n",
            "Score:  0.8888888888888888\n",
            "\n",
            "Alpha:  1000\n",
            "Score:  0.7777777777777778\n",
            "\n"
          ],
          "name": "stdout"
        }
      ]
    },
    {
      "cell_type": "code",
      "metadata": {
        "id": "95DqpK_be2iz",
        "colab_type": "code",
        "colab": {},
        "outputId": "e2b173d2-a826-4a24-bed0-a783825c43d5"
      },
      "source": [
        "import matplotlib.pyplot as plt \n",
        "\n",
        "x = list(alphas)\n",
        "y = scores \n",
        "\n",
        "# plotting the points \n",
        "plt.figure(figsize=(10,8))\n",
        "plt.plot(x, y, color='green', linestyle='dashed', linewidth = 3, marker='o', markerfacecolor='blue', markersize=12) \n",
        "plt.xlabel('max_iteration Values') \n",
        "plt.ylabel('Accuracy Score')\n",
        "plt.xticks((50,100,150,200,250,300,350,400,450,500,600,700,800,900,1000))\n",
        "plt.title('HYPERPARAMETER TUNING Passive Aggressive !') \n",
        "plt.show() "
      ],
      "execution_count": null,
      "outputs": [
        {
          "output_type": "display_data",
          "data": {
            "image/png": "[encoded data removed]",
            "text/plain": [
              "<Figure size 720x576 with 1 Axes>"
            ]
          },
          "metadata": {
            "tags": [],
            "needs_background": "light"
          }
        }
      ]
    },
    {
      "cell_type": "markdown",
      "metadata": {
        "id": "l-YGkyNVe2i5",
        "colab_type": "text"
      },
      "source": [
        "# STOCHASTIC GRADIENT DESCENT CLASSIFIER"
      ]
    },
    {
      "cell_type": "code",
      "metadata": {
        "id": "cLzyNsqSe2i6",
        "colab_type": "code",
        "colab": {},
        "outputId": "d79ddcef-d05d-4ff9-e17a-be18001465ac"
      },
      "source": [
        "#USING SGD MODEL TO PREDICT ON TFIDFVECTORIZER CALCULATED VALUES\n",
        "\n",
        "from sklearn.linear_model import SGDClassifier\n",
        "from sklearn import metrics\n",
        "\n",
        "SGD_classifier = SGDClassifier(alpha=0.0001, average=False, class_weight=None,\n",
        "              early_stopping=False, epsilon=0.1, eta0=0.0, fit_intercept=True,\n",
        "              l1_ratio=0.15, learning_rate='optimal', loss='log', max_iter=50,\n",
        "              n_iter_no_change=5, n_jobs=None, penalty='l2', power_t=0.5,\n",
        "              random_state=None, shuffle=True, tol=0.001,\n",
        "              validation_fraction=0.1, verbose=0, warm_start=False)\n",
        "\n",
        "SGD_classifier.fit(tfidf_train,y_train)\n",
        "pred = SGD_classifier.predict(tfidf_test)\n",
        "\n",
        "# Calculate the accuracy score: score\n",
        "score = metrics.accuracy_score(y_test,pred)\n",
        "print(\"Score from TFIDF Vectorizer\", round(score*100,3) ,\"%\")\n",
        "\n",
        "# Calculate the confusion matrix: cm\n",
        "cm = metrics.confusion_matrix(y_test,pred,  labels=['appointment', 'confirm', 'goodbye', 'greeting', 'payments', 'thanks', 'unknown'])\n",
        "print(cm)"
      ],
      "execution_count": null,
      "outputs": [
        {
          "output_type": "stream",
          "text": [
            "Score from TFIDF Vectorizer 88.889 %\n",
            "[[1 0 0 0 0 0 0]\n",
            " [0 2 0 0 0 0 0]\n",
            " [0 0 0 0 0 0 0]\n",
            " [0 0 0 2 0 0 0]\n",
            " [0 1 0 0 1 0 0]\n",
            " [0 0 0 0 0 1 0]\n",
            " [0 0 0 0 0 0 1]]\n"
          ],
          "name": "stdout"
        }
      ]
    },
    {
      "cell_type": "code",
      "metadata": {
        "id": "Cf6F1AIHe2jD",
        "colab_type": "code",
        "colab": {},
        "outputId": "9ab0708e-5df1-409b-9e86-8e7441c3cdf8"
      },
      "source": [
        "# Run this code once to get the best parameters for SGD Classifier amd use the parameters later. Run this code again only if you are changing the dataset, otherwise stick with the next block of code.\n",
        "# SGD classifier - finding best parameters using Grid Search CV\n",
        "from sklearn.model_selection import GridSearchCV\n",
        "\n",
        "params = {\n",
        "    \"loss\" : [\"hinge\", \"log\", \"squared_hinge\", \"modified_huber\"],\n",
        "    'alpha': [1e-4, 1e-3, 1e-2, 1e-1, 1e0, 1e1, 1e2, 1e3],\n",
        "    \"penalty\" : [\"l2\", \"l1\", \"none\"],\n",
        "    \"max_iter\" : [5, 10, 20, 50, 100, 1000]\n",
        "}\n",
        "\n",
        "model = SGDClassifier()\n",
        "SGD_classifier = GridSearchCV(model, param_grid=params)\n",
        "SGD_classifier.fit(tfidf_train, y_train)\n",
        "\n",
        "print(SGD_classifier.best_score_)\n",
        "print(SGD_classifier.best_estimator_)   "
      ],
      "execution_count": null,
      "outputs": [
        {
          "output_type": "stream",
          "text": [
            "c:\\users\\elcot\\appdata\\local\\programs\\python\\python36-32\\lib\\site-packages\\sklearn\\model_selection\\_split.py:667: UserWarning: The least populated class in y has only 2 members, which is less than n_splits=5.\n",
            "  % (min_groups, self.n_splits)), UserWarning)\n",
            "c:\\users\\elcot\\appdata\\local\\programs\\python\\python36-32\\lib\\site-packages\\sklearn\\linear_model\\_stochastic_gradient.py:557: ConvergenceWarning: Maximum number of iteration reached before convergence. Consider increasing max_iter to improve the fit.\n",
            "  ConvergenceWarning)\n"
          ],
          "name": "stderr"
        },
        {
          "output_type": "stream",
          "text": [
            "0.64\n",
            "SGDClassifier(alpha=0.001, average=False, class_weight=None,\n",
            "              early_stopping=False, epsilon=0.1, eta0=0.0, fit_intercept=True,\n",
            "              l1_ratio=0.15, learning_rate='optimal', loss='hinge',\n",
            "              max_iter=1000, n_iter_no_change=5, n_jobs=None, penalty='none',\n",
            "              power_t=0.5, random_state=None, shuffle=True, tol=0.001,\n",
            "              validation_fraction=0.1, verbose=0, warm_start=False)\n"
          ],
          "name": "stdout"
        }
      ]
    },
    {
      "cell_type": "markdown",
      "metadata": {
        "id": "K5WzKuR6e2jL",
        "colab_type": "text"
      },
      "source": [
        "# LOGISTIC REGRESSION"
      ]
    },
    {
      "cell_type": "code",
      "metadata": {
        "id": "xFkE5lKye2jM",
        "colab_type": "code",
        "colab": {},
        "outputId": "c61917de-82cf-4a28-dd23-e6f1c6bfe0c7"
      },
      "source": [
        "from sklearn.linear_model import LogisticRegression\n",
        "from sklearn import metrics\n",
        "\n",
        "logreg_classifier = LogisticRegression(C=1000)\n",
        "\n",
        "logreg_classifier.fit(tfidf_train,y_train)\n",
        "pred = logreg_classifier.predict(tfidf_test)\n",
        "\n",
        "# Calculate the accuracy score: score\n",
        "score = metrics.accuracy_score(y_test,pred)\n",
        "print(\"Score from TFIDF Vectorizer\", round(score*100,3) ,\"%\")\n",
        "\n",
        "# Calculate the confusion matrix: cm\n",
        "cm = metrics.confusion_matrix(y_test,pred, labels=['appointment', 'confirm', 'goodbye', 'greeting', 'payments', 'thanks', 'unknown'])\n",
        "print(cm)"
      ],
      "execution_count": null,
      "outputs": [
        {
          "output_type": "stream",
          "text": [
            "Score from TFIDF Vectorizer 77.778 %\n",
            "[[1 0 0 0 0 0 0]\n",
            " [0 2 0 0 0 0 0]\n",
            " [0 0 0 0 0 0 0]\n",
            " [0 0 0 2 0 0 0]\n",
            " [0 1 0 1 0 0 0]\n",
            " [0 0 0 0 0 1 0]\n",
            " [0 0 0 0 0 0 1]]\n"
          ],
          "name": "stdout"
        }
      ]
    },
    {
      "cell_type": "code",
      "metadata": {
        "id": "XjeR11Ule2jT",
        "colab_type": "code",
        "colab": {},
        "outputId": "c44dcf85-39fd-4a3c-a909-0fd2986668c6"
      },
      "source": [
        "import numpy as np\n",
        "\n",
        "C = [0.001, 0.01, 0.1, 1, 10, 100, 1000]\n",
        "scores = []\n",
        "# Define train_and_predict()\n",
        "def train_and_predict(C):\n",
        "\n",
        "    logreg_classifier = LogisticRegression(C=C)\n",
        "    logreg_classifier.fit(tfidf_train, y_train)\n",
        "    pred = logreg_classifier.predict(tfidf_test)\n",
        "    score = metrics.accuracy_score(y_test, pred)\n",
        "    scores.append(score)\n",
        "    return score\n",
        "\n",
        "# Iterate over the alphas and print the corresponding score\n",
        "for c in C:\n",
        "    print('C value: ', c)\n",
        "    print('Score: ', train_and_predict(c))\n",
        "    print()"
      ],
      "execution_count": null,
      "outputs": [
        {
          "output_type": "stream",
          "text": [
            "C value:  0.001\n",
            "Score:  0.2222222222222222\n",
            "\n",
            "C value:  0.01\n",
            "Score:  0.2222222222222222\n",
            "\n",
            "C value:  0.1\n",
            "Score:  0.4444444444444444\n",
            "\n",
            "C value:  1\n",
            "Score:  0.5555555555555556\n",
            "\n",
            "C value:  10\n",
            "Score:  0.7777777777777778\n",
            "\n",
            "C value:  100\n",
            "Score:  0.7777777777777778\n",
            "\n",
            "C value:  1000\n",
            "Score:  0.7777777777777778\n",
            "\n"
          ],
          "name": "stdout"
        }
      ]
    },
    {
      "cell_type": "code",
      "metadata": {
        "id": "Gg_IcTpge2jb",
        "colab_type": "code",
        "colab": {},
        "outputId": "141a2613-66d8-459c-e40c-af9f4031ae64"
      },
      "source": [
        "import matplotlib.pyplot as plt \n",
        "\n",
        "x = C\n",
        "y = scores \n",
        "\n",
        "# plotting the points \n",
        "plt.plot(x, y, color='green', linestyle='dashed', linewidth = 3, marker='o', markerfacecolor='blue', markersize=12) \n",
        "plt.xlabel('C Values') \n",
        "plt.ylabel('Accuracy Score') \n",
        "plt.title('HYPERPARAMETER TUNING Logistic Classifier !') \n",
        "plt.show() "
      ],
      "execution_count": null,
      "outputs": [
        {
          "output_type": "display_data",
          "data": {
            "image/png": "[encoded data removed]",
            "text/plain": [
              "<Figure size 432x288 with 1 Axes>"
            ]
          },
          "metadata": {
            "tags": [],
            "needs_background": "light"
          }
        }
      ]
    },
    {
      "cell_type": "markdown",
      "metadata": {
        "id": "iUhkXu1Ue2jh",
        "colab_type": "text"
      },
      "source": [
        "# RANDOM FOREST CLASSIFIER"
      ]
    },
    {
      "cell_type": "code",
      "metadata": {
        "id": "v-quxSs1e2jj",
        "colab_type": "code",
        "colab": {},
        "outputId": "a276cfac-2f99-47d3-8ca8-9991a8b5ace5"
      },
      "source": [
        "from sklearn.ensemble import RandomForestClassifier\n",
        "from sklearn import metrics\n",
        "\n",
        "rf_classifier = RandomForestClassifier(n_estimators = 100)\n",
        "\n",
        "rf_classifier.fit(tfidf_train,y_train)\n",
        "pred = rf_classifier.predict(tfidf_test)\n",
        "\n",
        "# Calculate the accuracy score: score\n",
        "score = metrics.accuracy_score(y_test,pred)\n",
        "print(\"\\nScore from TFIDF Vectorizer + Random Forest :\", round(score*100,3) ,\"%\\n\")\n",
        "\n",
        "# Calculate the confusion matrix: cm\n",
        "cm = metrics.confusion_matrix(y_test,pred, labels = ['appointment', 'confirm', 'goodbye', 'greeting', 'payments', 'thanks', 'unknown'])\n",
        "print(cm)"
      ],
      "execution_count": null,
      "outputs": [
        {
          "output_type": "stream",
          "text": [
            "\n",
            "Score from TFIDF Vectorizer + Random Forest : 66.667 %\n",
            "\n",
            "[[0 0 0 1 0 0 0]\n",
            " [0 2 0 0 0 0 0]\n",
            " [0 0 0 0 0 0 0]\n",
            " [0 0 0 2 0 0 0]\n",
            " [0 0 0 2 0 0 0]\n",
            " [0 0 0 0 0 1 0]\n",
            " [0 0 0 0 0 0 1]]\n"
          ],
          "name": "stdout"
        }
      ]
    },
    {
      "cell_type": "code",
      "metadata": {
        "id": "z4qAzi9ne2jr",
        "colab_type": "code",
        "colab": {},
        "outputId": "a9f28fdb-36a7-4bad-d529-aa740a1d464b"
      },
      "source": [
        "# Create the list of alphas: trees for tfidf\n",
        "import numpy as np\n",
        "\n",
        "trees = [50,100,150,200,250,300,350,400,450,500,600,700,800,900,1000]\n",
        "scores = []\n",
        "# Define train_and_predict()\n",
        "def train_and_predict(alpha):\n",
        "\n",
        "    rf_classifier = RandomForestClassifier(n_estimators=alpha)\n",
        "    rf_classifier.fit(tfidf_train, y_train)\n",
        "    pred = rf_classifier.predict(tfidf_test)\n",
        "    score = metrics.accuracy_score(y_test, pred)\n",
        "    scores.append(score)\n",
        "\n",
        "    return score\n",
        "\n",
        "# Iterate over the alphas and print the corresponding score\n",
        "for tree in trees:\n",
        "    print('Alpha: ', tree)\n",
        "    print('Score: ', train_and_predict(tree))\n",
        "    print()"
      ],
      "execution_count": null,
      "outputs": [
        {
          "output_type": "stream",
          "text": [
            "Alpha:  50\n",
            "Score:  0.6666666666666666\n",
            "\n",
            "Alpha:  100\n",
            "Score:  0.6666666666666666\n",
            "\n",
            "Alpha:  150\n",
            "Score:  0.6666666666666666\n",
            "\n",
            "Alpha:  200\n",
            "Score:  0.6666666666666666\n",
            "\n",
            "Alpha:  250\n",
            "Score:  0.6666666666666666\n",
            "\n",
            "Alpha:  300\n",
            "Score:  0.6666666666666666\n",
            "\n",
            "Alpha:  350\n",
            "Score:  0.6666666666666666\n",
            "\n",
            "Alpha:  400\n",
            "Score:  0.6666666666666666\n",
            "\n",
            "Alpha:  450\n",
            "Score:  0.6666666666666666\n",
            "\n",
            "Alpha:  500\n",
            "Score:  0.6666666666666666\n",
            "\n",
            "Alpha:  600\n",
            "Score:  0.6666666666666666\n",
            "\n",
            "Alpha:  700\n",
            "Score:  0.5555555555555556\n",
            "\n",
            "Alpha:  800\n",
            "Score:  0.6666666666666666\n",
            "\n",
            "Alpha:  900\n",
            "Score:  0.6666666666666666\n",
            "\n",
            "Alpha:  1000\n",
            "Score:  0.6666666666666666\n",
            "\n"
          ],
          "name": "stdout"
        }
      ]
    },
    {
      "cell_type": "code",
      "metadata": {
        "id": "ZkAf28wwe2jx",
        "colab_type": "code",
        "colab": {},
        "outputId": "98912ffa-f8b9-4888-931b-6451c3c597d9"
      },
      "source": [
        "import matplotlib.pyplot as plt \n",
        "\n",
        "x = list(trees)\n",
        "y = scores \n",
        "\n",
        "# plotting the points \n",
        "plt.figure(figsize=(10,8))\n",
        "plt.plot(x, y, color='green', linestyle='dashed', linewidth = 3, marker='o', markerfacecolor='blue', markersize=12) \n",
        "plt.xlabel('max_iteration Values') \n",
        "plt.ylabel('Accuracy Score')\n",
        "plt.xticks((50,100,150,200,250,300,350,400,450,500,600,700,800,900,1000))\n",
        "plt.title('HYPERPARAMETER TUNING Random Forest !') \n",
        "plt.show() "
      ],
      "execution_count": null,
      "outputs": [
        {
          "output_type": "display_data",
          "data": {
            "image/png": "[encoded data removed]",
            "text/plain": [
              "<Figure size 720x576 with 1 Axes>"
            ]
          },
          "metadata": {
            "tags": [],
            "needs_background": "light"
          }
        }
      ]
    },
    {
      "cell_type": "markdown",
      "metadata": {
        "id": "lSluH0Q9e2j5",
        "colab_type": "text"
      },
      "source": [
        "## SO FROM THE ABOVE RESULTS FOR THE CHATBOT , IT SEEMS ONLY PASSIVE AGGRESSIVE CLASSIFIER AND SGD CLASSIFIER PROVIDES ATLEAST 75% ACCURACY WHEN COMPARED TO OTHERS.\n",
        "\n",
        "## LET'S USE THEM BOTH AND GET THE MEAN SCORE OUT OF THEM"
      ]
    },
    {
      "cell_type": "code",
      "metadata": {
        "id": "nNewc9RKe2j6",
        "colab_type": "code",
        "colab": {}
      },
      "source": [
        "import pickle\n",
        "\n",
        "with open(\"pac_chatbot_classifier.pkl\",\"wb\") as fout:\n",
        "    pickle.dump((tfidf_vectorizer, PA_classifier), fout) \n",
        "\n",
        "with open(\"sgd_chatbot_classifier.pkl\",\"wb\") as fout:\n",
        "    pickle.dump((tfidf_vectorizer, SGD_classifier), fout) "
      ],
      "execution_count": null,
      "outputs": []
    },
    {
      "cell_type": "code",
      "metadata": {
        "id": "qmmZujgRe2kF",
        "colab_type": "code",
        "colab": {},
        "outputId": "f7a7b496-b29c-4b2b-e029-6121fbc07b67"
      },
      "source": [
        "from scipy.stats.mstats import mode\n",
        "import numpy as np\n",
        "\n",
        "def ensemble(x):\n",
        "    pred1 = PA_classifier._predict_proba_lr(x)\n",
        "    pred2 = SGD_classifier.predict_proba(x)\n",
        "    \n",
        "    test_pred_prob = np.mean([pred1, pred2], axis=0)\n",
        "    print(\"Test_Pred_Prob\",test_pred_prob)\n",
        "    pred = np.argmax(test_pred_prob, axis=1)\n",
        "    return pred\n",
        "\n",
        "pred = []\n",
        "pred = ensemble(tfidf_test)\n",
        "pred = np.array(pred)\n",
        "print()\n",
        "print(pred)"
      ],
      "execution_count": null,
      "outputs": [
        {
          "output_type": "stream",
          "text": [
            "Test_Pred_Prob [[0.07092413 0.63440866 0.05076774 0.06373983 0.06409051 0.05206761\n",
            "  0.06400153]\n",
            " [0.0529966  0.06432669 0.07202907 0.05434378 0.05180942 0.64891576\n",
            "  0.05557868]\n",
            " [0.47944172 0.04766772 0.06433608 0.21592339 0.06171704 0.06319866\n",
            "  0.06771539]\n",
            " [0.06238997 0.09012603 0.06444706 0.1087017  0.08752439 0.07365189\n",
            "  0.51315895]\n",
            " [0.06053036 0.64450287 0.04665738 0.06183361 0.0642528  0.06105509\n",
            "  0.06116789]\n",
            " [0.04388514 0.06175752 0.05376763 0.64904252 0.06958549 0.06661494\n",
            "  0.05534676]\n",
            " [0.08206079 0.04503672 0.09186527 0.21776702 0.23767047 0.1130397\n",
            "  0.21256003]\n",
            " [0.10546495 0.45977266 0.08376612 0.08901507 0.08935814 0.08445364\n",
            "  0.08816942]\n",
            " [0.13879811 0.14030387 0.14820558 0.15492527 0.13836586 0.1423825\n",
            "  0.13701881]]\n",
            "\n",
            "[1 5 0 6 1 3 4 1 3]\n"
          ],
          "name": "stdout"
        }
      ]
    },
    {
      "cell_type": "code",
      "metadata": {
        "id": "vhET3G4Je2kM",
        "colab_type": "code",
        "colab": {}
      },
      "source": [
        "y_test = y_test.replace(to_replace = ['appointment', 'confirm', 'goodbye', 'greeting', 'payments', 'thanks', 'unknown'], value=[0,1,2,3,4,5,6])"
      ],
      "execution_count": null,
      "outputs": []
    },
    {
      "cell_type": "code",
      "metadata": {
        "id": "xfSDNRMre2kR",
        "colab_type": "code",
        "colab": {},
        "outputId": "c3871ae1-51bf-494c-b651-d82e5a46ba0f"
      },
      "source": [
        "score = metrics.accuracy_score(y_test,pred)\n",
        "print(\"Score from ENSEMBLE\", round(score*100,3) ,\"%\")"
      ],
      "execution_count": null,
      "outputs": [
        {
          "output_type": "stream",
          "text": [
            "Score from ENSEMBLE 88.889 %\n"
          ],
          "name": "stdout"
        }
      ]
    },
    {
      "cell_type": "code",
      "metadata": {
        "id": "k1ZsgUkHe2kY",
        "colab_type": "code",
        "colab": {}
      },
      "source": [
        ""
      ],
      "execution_count": null,
      "outputs": []
    }
  ]
}